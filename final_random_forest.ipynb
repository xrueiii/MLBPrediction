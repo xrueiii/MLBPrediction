{
 "cells": [
  {
   "cell_type": "code",
   "execution_count": null,
   "id": "09353a82-a6f0-4744-8028-cfef7eddeae0",
   "metadata": {},
   "outputs": [],
   "source": [
    "# 結果最高分\n",
    "import pandas as pd\n",
    "from sklearn.model_selection import train_test_split\n",
    "from sklearn.ensemble import RandomForestClassifier\n",
    "from sklearn.metrics import accuracy_score\n",
    "\n",
    "# Load datasets\n",
    "train_data = pd.read_csv('train_data.csv')\n",
    "test_data = pd.read_csv('same_season_test_data.csv')\n",
    "sample_submission = pd.read_csv('same_season_sample_submission.csv')\n",
    "\n",
    "# Columns to explicitly drop\n",
    "columns_to_drop = ['id', 'date', 'home_pitcher', 'away_pitcher', 'home_team_abbr', 'away_team_abbr']\n",
    "\n",
    "# Drop unnecessary columns dynamically\n",
    "train_data = train_data.drop(columns=[col for col in columns_to_drop if col in train_data.columns], errors='ignore')\n",
    "test_data = test_data.drop(columns=[col for col in columns_to_drop if col in test_data.columns], errors='ignore')\n",
    "\n",
    "# Identify non-numeric columns and apply one-hot encoding\n",
    "train_data = pd.get_dummies(train_data, drop_first=True)\n",
    "test_data = pd.get_dummies(test_data, drop_first=True)\n",
    "\n",
    "# Align features between training and test data\n",
    "test_data = test_data.reindex(columns=train_data.columns, fill_value=0)\n",
    "\n",
    "# Separate features and target variable\n",
    "X = train_data.drop(columns=['home_team_win'], errors='ignore')\n",
    "y = train_data['home_team_win']\n",
    "\n",
    "# Ensure numeric-only values and handle missing values\n",
    "X = X.apply(pd.to_numeric, errors='coerce').fillna(X.median())\n",
    "test_data = test_data.apply(pd.to_numeric, errors='coerce').fillna(test_data.median())\n",
    "\n",
    "# Train-test split for validation\n",
    "X_train, X_val, y_train, y_val = train_test_split(X, y, test_size=0.2, random_state=42, stratify=y)\n",
    "\n",
    "# Train model\n",
    "model = RandomForestClassifier(n_estimators=100, random_state=42)\n",
    "model.fit(X_train, y_train)\n",
    "\n",
    "# Validate model\n",
    "y_val_pred = model.predict(X_val)\n",
    "val_accuracy = accuracy_score(y_val, y_val_pred)\n",
    "print(f\"Validation Accuracy: {val_accuracy:.4f}\")\n",
    "\n",
    "# Make predictions on test data\n",
    "test_data['home_team_win'] = model.predict(test_data.drop(columns=['home_team_win'], errors='ignore'))\n",
    "\n",
    "# Prepare submission\n",
    "submission = sample_submission.copy()\n",
    "submission['home_team_win'] = test_data['home_team_win']\n",
    "submission.to_csv('submission.csv', index=False)\n",
    "\n",
    "print(\"Prediction completed. Results saved in 'submission.csv'\")\n"
   ]
  }
 ],
 "metadata": {
  "kernelspec": {
   "display_name": "Python 3 (ipykernel)",
   "language": "python",
   "name": "python3"
  },
  "language_info": {
   "codemirror_mode": {
    "name": "ipython",
    "version": 3
   },
   "file_extension": ".py",
   "mimetype": "text/x-python",
   "name": "python",
   "nbconvert_exporter": "python",
   "pygments_lexer": "ipython3",
   "version": "3.12.2"
  }
 },
 "nbformat": 4,
 "nbformat_minor": 5
}
